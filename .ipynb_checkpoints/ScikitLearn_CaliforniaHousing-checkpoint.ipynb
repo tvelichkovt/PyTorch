{
 "cells": [
  {
   "cell_type": "code",
   "execution_count": 1,
   "metadata": {},
   "outputs": [],
   "source": [
    "#Linear Equation y = a_0 + a_1 * x"
   ]
  },
  {
   "cell_type": "code",
   "execution_count": 2,
   "metadata": {},
   "outputs": [
    {
     "name": "stdout",
     "output_type": "stream",
     "text": [
      "score is 1.0\n",
      "coef is [1. 2.]\n",
      "intercept is 3.0000000000000018\n",
      "predict is [16.]\n"
     ]
    }
   ],
   "source": [
    "#1 Basic Theory: Ordinary Least Squares (scipy.linalg.lstsq) Linear Regression \n",
    "\n",
    "import numpy as np\n",
    "from sklearn.linear_model import LinearRegression\n",
    "\n",
    "X = np.array([[1, 1], [1, 2], [2, 2], [2, 3]])\n",
    "# y = 1 * x_0 + 2 * x_1 + 3\n",
    "y = np.dot(X, np.array([1, 2])) + 3\n",
    "reg = LinearRegression().fit(X, y)\n",
    "\n",
    "print('score is', reg.score(X, y))\n",
    "\n",
    "print('coef is', reg.coef_)\n",
    "\n",
    "print('intercept is', reg.intercept_)\n",
    "\n",
    "print('predict is', reg.predict(np.array([[3, 5]])))"
   ]
  },
  {
   "cell_type": "code",
   "execution_count": 3,
   "metadata": {},
   "outputs": [
    {
     "name": "stdout",
     "output_type": "stream",
     "text": [
      "Coefficients: \n",
      " [938.23786125]\n",
      "Mean squared error: 2548.07\n",
      "Coefficient of determination: 0.47\n"
     ]
    },
    {
     "data": {
      "image/png": "[encoded data removed]",
      "text/plain": [
       "<Figure size 432x288 with 1 Axes>"
      ]
     },
     "metadata": {},
     "output_type": "display_data"
    }
   ],
   "source": [
    "#2 Basic Theory: Ordinary Least Squares (scipy.linalg.lstsq) Linear Regression \n",
    "\n",
    "import matplotlib.pyplot as plt\n",
    "import numpy as np\n",
    "from sklearn import datasets, linear_model\n",
    "from sklearn.metrics import mean_squared_error, r2_score\n",
    "\n",
    "# Load the diabetes dataset\n",
    "diabetes_X, diabetes_y = datasets.load_diabetes(return_X_y=True)\n",
    "\n",
    "# Use only one feature\n",
    "diabetes_X = diabetes_X[:, np.newaxis, 2]\n",
    "\n",
    "# Split the data into training/testing sets\n",
    "diabetes_X_train = diabetes_X[:-20]\n",
    "diabetes_X_test = diabetes_X[-20:]\n",
    "\n",
    "# Split the targets into training/testing sets\n",
    "diabetes_y_train = diabetes_y[:-20]\n",
    "diabetes_y_test = diabetes_y[-20:]\n",
    "\n",
    "# Create linear regression object\n",
    "regr = linear_model.LinearRegression()\n",
    "\n",
    "# Train the model using the training sets\n",
    "regr.fit(diabetes_X_train, diabetes_y_train)\n",
    "\n",
    "# Make predictions using the testing set\n",
    "diabetes_y_pred = regr.predict(diabetes_X_test)\n",
    "\n",
    "# The coefficients\n",
    "print('Coefficients: \\n', regr.coef_)\n",
    "# The mean squared error\n",
    "print('Mean squared error: %.2f'\n",
    "      % mean_squared_error(diabetes_y_test, diabetes_y_pred))\n",
    "# The coefficient of determination: 1 is perfect prediction\n",
    "print('Coefficient of determination: %.2f'\n",
    "      % r2_score(diabetes_y_test, diabetes_y_pred))\n",
    "\n",
    "# Plot outputs\n",
    "plt.scatter(diabetes_X_test, diabetes_y_test,  color='black')\n",
    "plt.plot(diabetes_X_test, diabetes_y_pred, color='blue', linewidth=3)\n",
    "\n",
    "plt.xticks(())\n",
    "plt.yticks(())\n",
    "\n",
    "plt.show()"
   ]
  },
  {
   "cell_type": "code",
   "execution_count": 4,
   "metadata": {},
   "outputs": [
    {
     "data": {
      "text/html": [
       "<div>\n",
       "<style scoped>\n",
       "    .dataframe tbody tr th:only-of-type {\n",
       "        vertical-align: middle;\n",
       "    }\n",
       "\n",
       "    .dataframe tbody tr th {\n",
       "        vertical-align: top;\n",
       "    }\n",
       "\n",
       "    .dataframe thead th {\n",
       "        text-align: right;\n",
       "    }\n",
       "</style>\n",
       "<table border=\"1\" class=\"dataframe\">\n",
       "  <thead>\n",
       "    <tr style=\"text-align: right;\">\n",
       "      <th></th>\n",
       "      <th>HIGH_T</th>\n",
       "      <th>LOW_T</th>\n",
       "      <th>PRECIP</th>\n",
       "      <th>BB_COUNT</th>\n",
       "    </tr>\n",
       "    <tr>\n",
       "      <th>Date</th>\n",
       "      <th></th>\n",
       "      <th></th>\n",
       "      <th></th>\n",
       "      <th></th>\n",
       "    </tr>\n",
       "  </thead>\n",
       "  <tbody>\n",
       "    <tr>\n",
       "      <th>2017-04-01</th>\n",
       "      <td>46.0</td>\n",
       "      <td>37.0</td>\n",
       "      <td>0.00</td>\n",
       "      <td>606</td>\n",
       "    </tr>\n",
       "    <tr>\n",
       "      <th>2017-04-02</th>\n",
       "      <td>62.1</td>\n",
       "      <td>41.0</td>\n",
       "      <td>0.00</td>\n",
       "      <td>2021</td>\n",
       "    </tr>\n",
       "    <tr>\n",
       "      <th>2017-04-03</th>\n",
       "      <td>63.0</td>\n",
       "      <td>50.0</td>\n",
       "      <td>0.03</td>\n",
       "      <td>2470</td>\n",
       "    </tr>\n",
       "    <tr>\n",
       "      <th>2017-04-04</th>\n",
       "      <td>51.1</td>\n",
       "      <td>46.0</td>\n",
       "      <td>1.18</td>\n",
       "      <td>723</td>\n",
       "    </tr>\n",
       "    <tr>\n",
       "      <th>2017-04-05</th>\n",
       "      <td>63.0</td>\n",
       "      <td>46.0</td>\n",
       "      <td>0.00</td>\n",
       "      <td>2807</td>\n",
       "    </tr>\n",
       "  </tbody>\n",
       "</table>\n",
       "</div>"
      ],
      "text/plain": [
       "            HIGH_T  LOW_T  PRECIP  BB_COUNT\n",
       "Date                                       \n",
       "2017-04-01    46.0   37.0    0.00       606\n",
       "2017-04-02    62.1   41.0    0.00      2021\n",
       "2017-04-03    63.0   50.0    0.03      2470\n",
       "2017-04-04    51.1   46.0    1.18       723\n",
       "2017-04-05    63.0   46.0    0.00      2807"
      ]
     },
     "execution_count": 4,
     "metadata": {},
     "output_type": "execute_result"
    }
   ],
   "source": [
    "#Create a pandas DataFrame for the counts data set.\n",
    "import pandas as pd\n",
    "\n",
    "df = pd.read_csv(\"https://raw.githubusercontent.com/tvelichkovt/PyTorch/main/nyc_bb_bicyclist_counts.csv\", header=0, infer_datetime_format=True, parse_dates=[0], index_col=[0])\n",
    "\n",
    "df.head()"
   ]
  },
  {
   "cell_type": "code",
   "execution_count": 5,
   "metadata": {},
   "outputs": [
    {
     "data": {
      "text/html": [
       "<div>\n",
       "<style scoped>\n",
       "    .dataframe tbody tr th:only-of-type {\n",
       "        vertical-align: middle;\n",
       "    }\n",
       "\n",
       "    .dataframe tbody tr th {\n",
       "        vertical-align: top;\n",
       "    }\n",
       "\n",
       "    .dataframe thead th {\n",
       "        text-align: right;\n",
       "    }\n",
       "</style>\n",
       "<table border=\"1\" class=\"dataframe\">\n",
       "  <thead>\n",
       "    <tr style=\"text-align: right;\">\n",
       "      <th></th>\n",
       "      <th>HIGH_T</th>\n",
       "      <th>LOW_T</th>\n",
       "      <th>PRECIP</th>\n",
       "      <th>BB_COUNT</th>\n",
       "    </tr>\n",
       "  </thead>\n",
       "  <tbody>\n",
       "    <tr>\n",
       "      <th>count</th>\n",
       "      <td>214.000000</td>\n",
       "      <td>214.000000</td>\n",
       "      <td>214.000000</td>\n",
       "      <td>214.000000</td>\n",
       "    </tr>\n",
       "    <tr>\n",
       "      <th>mean</th>\n",
       "      <td>74.201869</td>\n",
       "      <td>62.027103</td>\n",
       "      <td>0.132430</td>\n",
       "      <td>2680.042056</td>\n",
       "    </tr>\n",
       "    <tr>\n",
       "      <th>std</th>\n",
       "      <td>10.390443</td>\n",
       "      <td>9.305792</td>\n",
       "      <td>0.394004</td>\n",
       "      <td>854.710864</td>\n",
       "    </tr>\n",
       "    <tr>\n",
       "      <th>min</th>\n",
       "      <td>46.000000</td>\n",
       "      <td>37.000000</td>\n",
       "      <td>0.000000</td>\n",
       "      <td>151.000000</td>\n",
       "    </tr>\n",
       "    <tr>\n",
       "      <th>25%</th>\n",
       "      <td>66.900000</td>\n",
       "      <td>55.225000</td>\n",
       "      <td>0.000000</td>\n",
       "      <td>2298.000000</td>\n",
       "    </tr>\n",
       "    <tr>\n",
       "      <th>50%</th>\n",
       "      <td>75.900000</td>\n",
       "      <td>64.000000</td>\n",
       "      <td>0.000000</td>\n",
       "      <td>2857.000000</td>\n",
       "    </tr>\n",
       "    <tr>\n",
       "      <th>75%</th>\n",
       "      <td>82.000000</td>\n",
       "      <td>70.000000</td>\n",
       "      <td>0.037500</td>\n",
       "      <td>3285.000000</td>\n",
       "    </tr>\n",
       "    <tr>\n",
       "      <th>max</th>\n",
       "      <td>93.900000</td>\n",
       "      <td>78.100000</td>\n",
       "      <td>3.030000</td>\n",
       "      <td>4960.000000</td>\n",
       "    </tr>\n",
       "  </tbody>\n",
       "</table>\n",
       "</div>"
      ],
      "text/plain": [
       "           HIGH_T       LOW_T      PRECIP     BB_COUNT\n",
       "count  214.000000  214.000000  214.000000   214.000000\n",
       "mean    74.201869   62.027103    0.132430  2680.042056\n",
       "std     10.390443    9.305792    0.394004   854.710864\n",
       "min     46.000000   37.000000    0.000000   151.000000\n",
       "25%     66.900000   55.225000    0.000000  2298.000000\n",
       "50%     75.900000   64.000000    0.000000  2857.000000\n",
       "75%     82.000000   70.000000    0.037500  3285.000000\n",
       "max     93.900000   78.100000    3.030000  4960.000000"
      ]
     },
     "execution_count": 5,
     "metadata": {},
     "output_type": "execute_result"
    }
   ],
   "source": [
    "df.describe()"
   ]
  },
  {
   "cell_type": "code",
   "execution_count": 6,
   "metadata": {},
   "outputs": [],
   "source": [
    "import pandas as pd\n",
    "from patsy import dmatrices\n",
    "import numpy as np\n",
    "import statsmodels.api as sm\n",
    "import matplotlib.pyplot as plt"
   ]
  },
  {
   "cell_type": "code",
   "execution_count": 7,
   "metadata": {},
   "outputs": [
    {
     "name": "stdout",
     "output_type": "stream",
     "text": [
      "before is:  2017-04-02 00:00:00\n",
      "after is:  Date\n",
      "2017-04-02    4\n",
      "Name: Date, dtype: int64\n"
     ]
    }
   ],
   "source": [
    "#Add a few derived regression variables.\n",
    "ds = df.index.to_series()\n",
    "\n",
    "#before\n",
    "print('before is: ', df.head().index[1])\n",
    "\n",
    "#after\n",
    "print('after is: ', ds.dt.month[1:2])\n"
   ]
  },
  {
   "cell_type": "code",
   "execution_count": 8,
   "metadata": {},
   "outputs": [
    {
     "data": {
      "text/html": [
       "<div>\n",
       "<style scoped>\n",
       "    .dataframe tbody tr th:only-of-type {\n",
       "        vertical-align: middle;\n",
       "    }\n",
       "\n",
       "    .dataframe tbody tr th {\n",
       "        vertical-align: top;\n",
       "    }\n",
       "\n",
       "    .dataframe thead th {\n",
       "        text-align: right;\n",
       "    }\n",
       "</style>\n",
       "<table border=\"1\" class=\"dataframe\">\n",
       "  <thead>\n",
       "    <tr style=\"text-align: right;\">\n",
       "      <th></th>\n",
       "      <th>HIGH_T</th>\n",
       "      <th>LOW_T</th>\n",
       "      <th>PRECIP</th>\n",
       "      <th>BB_COUNT</th>\n",
       "      <th>MONTH</th>\n",
       "      <th>DAY_OF_WEEK</th>\n",
       "      <th>DAY</th>\n",
       "    </tr>\n",
       "    <tr>\n",
       "      <th>Date</th>\n",
       "      <th></th>\n",
       "      <th></th>\n",
       "      <th></th>\n",
       "      <th></th>\n",
       "      <th></th>\n",
       "      <th></th>\n",
       "      <th></th>\n",
       "    </tr>\n",
       "  </thead>\n",
       "  <tbody>\n",
       "    <tr>\n",
       "      <th>2017-04-01</th>\n",
       "      <td>46.0</td>\n",
       "      <td>37.0</td>\n",
       "      <td>0.00</td>\n",
       "      <td>606</td>\n",
       "      <td>4</td>\n",
       "      <td>5</td>\n",
       "      <td>1</td>\n",
       "    </tr>\n",
       "    <tr>\n",
       "      <th>2017-04-02</th>\n",
       "      <td>62.1</td>\n",
       "      <td>41.0</td>\n",
       "      <td>0.00</td>\n",
       "      <td>2021</td>\n",
       "      <td>4</td>\n",
       "      <td>6</td>\n",
       "      <td>2</td>\n",
       "    </tr>\n",
       "    <tr>\n",
       "      <th>2017-04-03</th>\n",
       "      <td>63.0</td>\n",
       "      <td>50.0</td>\n",
       "      <td>0.03</td>\n",
       "      <td>2470</td>\n",
       "      <td>4</td>\n",
       "      <td>0</td>\n",
       "      <td>3</td>\n",
       "    </tr>\n",
       "    <tr>\n",
       "      <th>2017-04-04</th>\n",
       "      <td>51.1</td>\n",
       "      <td>46.0</td>\n",
       "      <td>1.18</td>\n",
       "      <td>723</td>\n",
       "      <td>4</td>\n",
       "      <td>1</td>\n",
       "      <td>4</td>\n",
       "    </tr>\n",
       "    <tr>\n",
       "      <th>2017-04-05</th>\n",
       "      <td>63.0</td>\n",
       "      <td>46.0</td>\n",
       "      <td>0.00</td>\n",
       "      <td>2807</td>\n",
       "      <td>4</td>\n",
       "      <td>2</td>\n",
       "      <td>5</td>\n",
       "    </tr>\n",
       "  </tbody>\n",
       "</table>\n",
       "</div>"
      ],
      "text/plain": [
       "            HIGH_T  LOW_T  PRECIP  BB_COUNT  MONTH  DAY_OF_WEEK  DAY\n",
       "Date                                                                \n",
       "2017-04-01    46.0   37.0    0.00       606      4            5    1\n",
       "2017-04-02    62.1   41.0    0.00      2021      4            6    2\n",
       "2017-04-03    63.0   50.0    0.03      2470      4            0    3\n",
       "2017-04-04    51.1   46.0    1.18       723      4            1    4\n",
       "2017-04-05    63.0   46.0    0.00      2807      4            2    5"
      ]
     },
     "execution_count": 8,
     "metadata": {},
     "output_type": "execute_result"
    }
   ],
   "source": [
    "df['MONTH'] = ds.dt.month\n",
    "df['DAY_OF_WEEK'] = ds.dt.dayofweek\n",
    "df['DAY'] = ds.dt.day\n",
    "\n",
    "df.to_csv(\"nyc_bb_bicyclist_counts_output.csv\")\n",
    "\n",
    "df.head()"
   ]
  },
  {
   "cell_type": "code",
   "execution_count": 9,
   "metadata": {},
   "outputs": [
    {
     "name": "stdout",
     "output_type": "stream",
     "text": [
      "Training data set length=184\n",
      "Testing data set length=30\n"
     ]
    }
   ],
   "source": [
    "#Create the training and testing data sets.\n",
    "mask = np.random.rand(len(df)) < 0.8\n",
    "df_train = df[mask]\n",
    "df_test = df[~mask]\n",
    "\n",
    "df_train.to_csv(\"nyc_bb_bicyclist_counts_output_train.csv\")\n",
    "df_test.to_csv(\"nyc_bb_bicyclist_counts_output_test.csv\")\n",
    "\n",
    "\n",
    "print('Training data set length='+str(len(df_train)))\n",
    "print('Testing data set length='+str(len(df_test)))"
   ]
  },
  {
   "cell_type": "code",
   "execution_count": 10,
   "metadata": {},
   "outputs": [
    {
     "data": {
      "text/plain": [
       "'BB_COUNT ~ DAY  + DAY_OF_WEEK + MONTH + HIGH_T + LOW_T + PRECIP'"
      ]
     },
     "execution_count": 10,
     "metadata": {},
     "output_type": "execute_result"
    }
   ],
   "source": [
    "#Setup the regression expression in patsy notation. We are telling patsy that BB_COUNT is our dependent variable and\n",
    "# it depends on the regression variables: DAY, DAY_OF_WEEK, MONTH, HIGH_T, LOW_T and PRECIP.\n",
    "expr = \"\"\"BB_COUNT ~ DAY  + DAY_OF_WEEK + MONTH + HIGH_T + LOW_T + PRECIP\"\"\"\n",
    "\n",
    "expr"
   ]
  },
  {
   "cell_type": "code",
   "execution_count": 11,
   "metadata": {},
   "outputs": [],
   "source": [
    "#Set up the X and y matrices\n",
    "y_train, X_train = dmatrices(expr, df_train, return_type='dataframe')\n",
    "y_test, X_test = dmatrices(expr, df_test, return_type='dataframe')"
   ]
  },
  {
   "cell_type": "code",
   "execution_count": 12,
   "metadata": {},
   "outputs": [],
   "source": [
    "#Using the statsmodels GLM class, train the Poisson regression model on the training data set.\n",
    "poisson_training_results = sm.GLM(y_train, X_train, family=sm.families.Poisson()).fit()"
   ]
  },
  {
   "cell_type": "code",
   "execution_count": 13,
   "metadata": {},
   "outputs": [
    {
     "name": "stdout",
     "output_type": "stream",
     "text": [
      "                 Generalized Linear Model Regression Results                  \n",
      "==============================================================================\n",
      "Dep. Variable:               BB_COUNT   No. Observations:                  184\n",
      "Model:                            GLM   Df Residuals:                      177\n",
      "Model Family:                 Poisson   Df Model:                            6\n",
      "Link Function:                    log   Scale:                          1.0000\n",
      "Method:                          IRLS   Log-Likelihood:                -12887.\n",
      "Date:                Fri, 30 Oct 2020   Deviance:                       23999.\n",
      "Time:                        13:17:36   Pearson chi2:                 2.37e+04\n",
      "No. Iterations:                     5                                         \n",
      "Covariance Type:            nonrobust                                         \n",
      "===============================================================================\n",
      "                  coef    std err          z      P>|z|      [0.025      0.975]\n",
      "-------------------------------------------------------------------------------\n",
      "Intercept       7.0640      0.012    575.264      0.000       7.040       7.088\n",
      "DAY             0.0006      0.000      3.545      0.000       0.000       0.001\n",
      "DAY_OF_WEEK    -0.0177      0.001    -24.659      0.000      -0.019      -0.016\n",
      "MONTH           0.0138      0.001     18.131      0.000       0.012       0.015\n",
      "HIGH_T          0.0251      0.000     72.928      0.000       0.024       0.026\n",
      "LOW_T          -0.0166      0.000    -44.154      0.000      -0.017      -0.016\n",
      "PRECIP         -0.7467      0.007   -109.183      0.000      -0.760      -0.733\n",
      "===============================================================================\n"
     ]
    }
   ],
   "source": [
    "#Print the training summary.\n",
    "print(poisson_training_results.summary())"
   ]
  },
  {
   "cell_type": "code",
   "execution_count": 14,
   "metadata": {},
   "outputs": [],
   "source": [
    "#Make some predictions on the test data set.\n",
    "poisson_predictions = poisson_training_results.get_prediction(X_test)"
   ]
  },
  {
   "cell_type": "code",
   "execution_count": 15,
   "metadata": {},
   "outputs": [
    {
     "name": "stdout",
     "output_type": "stream",
     "text": [
      "                   mean    mean_se  mean_ci_lower  mean_ci_upper\n",
      "Date                                                            \n",
      "2017-04-08  2389.779788  11.059761    2368.201069    2411.555130\n",
      "2017-04-09  2782.644772  13.755043    2755.815560    2809.735180\n",
      "2017-04-15  2461.886081   8.473925    2445.333390    2478.550818\n",
      "2017-04-16  3358.860903  16.255813    3327.150727    3390.873300\n",
      "2017-04-17  2746.673162  10.262534    2726.632435    2766.861189\n"
     ]
    }
   ],
   "source": [
    "#.summary_frame() returns a pandas DataFrame\n",
    "predictions_summary_frame = poisson_predictions.summary_frame()\n",
    "print(predictions_summary_frame.head())"
   ]
  },
  {
   "cell_type": "code",
   "execution_count": 16,
   "metadata": {},
   "outputs": [
    {
     "data": {
      "text/html": [
       "<div>\n",
       "<style scoped>\n",
       "    .dataframe tbody tr th:only-of-type {\n",
       "        vertical-align: middle;\n",
       "    }\n",
       "\n",
       "    .dataframe tbody tr th {\n",
       "        vertical-align: top;\n",
       "    }\n",
       "\n",
       "    .dataframe thead th {\n",
       "        text-align: right;\n",
       "    }\n",
       "</style>\n",
       "<table border=\"1\" class=\"dataframe\">\n",
       "  <thead>\n",
       "    <tr style=\"text-align: right;\">\n",
       "      <th></th>\n",
       "      <th>mean</th>\n",
       "      <th>BB_COUNT</th>\n",
       "      <th>diff</th>\n",
       "    </tr>\n",
       "    <tr>\n",
       "      <th>Date</th>\n",
       "      <th></th>\n",
       "      <th></th>\n",
       "      <th></th>\n",
       "    </tr>\n",
       "  </thead>\n",
       "  <tbody>\n",
       "    <tr>\n",
       "      <th>2017-04-08</th>\n",
       "      <td>2389.779788</td>\n",
       "      <td>1674.0</td>\n",
       "      <td>715.779788</td>\n",
       "    </tr>\n",
       "    <tr>\n",
       "      <th>2017-04-09</th>\n",
       "      <td>2782.644772</td>\n",
       "      <td>2375.0</td>\n",
       "      <td>407.644772</td>\n",
       "    </tr>\n",
       "    <tr>\n",
       "      <th>2017-04-15</th>\n",
       "      <td>2461.886081</td>\n",
       "      <td>2253.0</td>\n",
       "      <td>208.886081</td>\n",
       "    </tr>\n",
       "    <tr>\n",
       "      <th>2017-04-16</th>\n",
       "      <td>3358.860903</td>\n",
       "      <td>2877.0</td>\n",
       "      <td>481.860903</td>\n",
       "    </tr>\n",
       "    <tr>\n",
       "      <th>2017-04-17</th>\n",
       "      <td>2746.673162</td>\n",
       "      <td>3152.0</td>\n",
       "      <td>-405.326838</td>\n",
       "    </tr>\n",
       "  </tbody>\n",
       "</table>\n",
       "</div>"
      ],
      "text/plain": [
       "                   mean  BB_COUNT        diff\n",
       "Date                                         \n",
       "2017-04-08  2389.779788    1674.0  715.779788\n",
       "2017-04-09  2782.644772    2375.0  407.644772\n",
       "2017-04-15  2461.886081    2253.0  208.886081\n",
       "2017-04-16  3358.860903    2877.0  481.860903\n",
       "2017-04-17  2746.673162    3152.0 -405.326838"
      ]
     },
     "execution_count": 16,
     "metadata": {},
     "output_type": "execute_result"
    }
   ],
   "source": [
    "predicted_counts = predictions_summary_frame['mean']\n",
    "actual_counts = y_test['BB_COUNT']\n",
    "\n",
    "output = pd.concat([(predicted_counts), (actual_counts)], axis=1, join='inner', ignore_index=False, keys=None,\n",
    "          levels=None, names=None, verify_integrity=False, copy=True)\n",
    "\n",
    "output['diff'] = output['mean'] - output['BB_COUNT'] \n",
    "\n",
    "output.head()"
   ]
  },
  {
   "cell_type": "code",
   "execution_count": 17,
   "metadata": {},
   "outputs": [
    {
     "data": {
      "text/plain": [
       "'16.85%'"
      ]
     },
     "execution_count": 17,
     "metadata": {},
     "output_type": "execute_result"
    }
   ],
   "source": [
    "percentage_err = \"{:.2%}\".format(output['diff'].abs().sum()/output['mean'].sum())\n",
    "percentage_err"
   ]
  },
  {
   "cell_type": "code",
   "execution_count": 18,
   "metadata": {},
   "outputs": [
    {
     "data": {
      "image/png": "[encoded data removed]",
      "text/plain": [
       "<Figure size 432x288 with 1 Axes>"
      ]
     },
     "metadata": {
      "needs_background": "light"
     },
     "output_type": "display_data"
    }
   ],
   "source": [
    "#Plot the predicted counts versus the actual counts for the test data.\n",
    "fig = plt.figure()\n",
    "fig.suptitle('Predicted versus actual bicyclist counts on the Brooklyn bridge')\n",
    "predicted, = plt.plot(X_test.index, predicted_counts, 'go-', label='Predicted counts')\n",
    "actual, = plt.plot(X_test.index, actual_counts, 'ro-', label='Actual counts')\n",
    "plt.legend(handles=[predicted, actual])\n",
    "plt.show()"
   ]
  },
  {
   "cell_type": "code",
   "execution_count": 19,
   "metadata": {},
   "outputs": [
    {
     "data": {
      "text/plain": [
       "<Figure size 432x288 with 0 Axes>"
      ]
     },
     "metadata": {},
     "output_type": "display_data"
    },
    {
     "data": {
      "image/png": "[encoded data removed]",
      "text/plain": [
       "<Figure size 432x288 with 1 Axes>"
      ]
     },
     "metadata": {
      "needs_background": "light"
     },
     "output_type": "display_data"
    }
   ],
   "source": [
    "#Show scatter plot of Actual versus Predicted counts\n",
    "plt.clf()\n",
    "fig = plt.figure()\n",
    "fig.suptitle('Scatter plot of Actual versus Predicted counts')\n",
    "plt.scatter(x=predicted_counts, y=actual_counts, marker='.',color='b')\n",
    "plt.xlabel('Predicted counts')\n",
    "plt.ylabel('Actual counts')\n",
    "plt.show()"
   ]
  }
 ],
 "metadata": {
  "kernelspec": {
   "display_name": "Python 3",
   "language": "python",
   "name": "python3"
  },
  "language_info": {
   "codemirror_mode": {
    "name": "ipython",
    "version": 3
   },
   "file_extension": ".py",
   "mimetype": "text/x-python",
   "name": "python",
   "nbconvert_exporter": "python",
   "pygments_lexer": "ipython3",
   "version": "3.7.6"
  },
  "varInspector": {
   "cols": {
    "lenName": 16,
    "lenType": 16,
    "lenVar": 40
   },
   "kernels_config": {
    "python": {
     "delete_cmd_postfix": "",
     "delete_cmd_prefix": "del ",
     "library": "var_list.py",
     "varRefreshCmd": "print(var_dic_list())"
    },
    "r": {
     "delete_cmd_postfix": ") ",
     "delete_cmd_prefix": "rm(",
     "library": "var_list.r",
     "varRefreshCmd": "cat(var_dic_list()) "
    }
   },
   "types_to_exclude": [
    "module",
    "function",
    "builtin_function_or_method",
    "instance",
    "_Feature"
   ],
   "window_display": false
  }
 },
 "nbformat": 4,
 "nbformat_minor": 4
}
