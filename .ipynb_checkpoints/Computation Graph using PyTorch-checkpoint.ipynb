{
 "cells": [
  {
   "cell_type": "code",
   "execution_count": 1,
   "metadata": {},
   "outputs": [],
   "source": [
    "#Importing the packages\n",
    "\n",
    "import torch\n",
    "import torch.optim as optim\n",
    "import torch.nn as nn\n",
    "import numpy as np\n",
    "import matplotlib.pyplot as plt"
   ]
  },
  {
   "cell_type": "code",
   "execution_count": 2,
   "metadata": {},
   "outputs": [],
   "source": [
    "#Defining the Hyperparameters\n",
    "\n",
    "input_size = 1\n",
    "output_size = 1\n",
    "num_epochs = 10000\n",
    "learning_rate = 0.001"
   ]
  },
  {
   "cell_type": "code",
   "execution_count": 3,
   "metadata": {},
   "outputs": [],
   "source": [
    "# Defining a Toy Dataset\n",
    "\n",
    "x_train = np.array([[3.3], [4.4], [5.5], [6.71], [6.93], [4.168],[9.779], [6.182], [7.59], [2.167], [7.042], [10.791], [5.313], [7.997], [3.1]], dtype=np.float32)\n",
    "\n",
    "y_train = np.array([[1.7], [2.76], [2.09], [3.19], [1.694], [1.573], [3.366], [2.596], [2.53], [1.221], [2.827], [3.465], [1.65], [2.904], [1.3]], dtype=np.float32)"
   ]
  },
  {
   "cell_type": "code",
   "execution_count": 4,
   "metadata": {},
   "outputs": [],
   "source": [
    "# Linear Regression Model\n",
    "\n",
    "model = nn.Linear(input_size, output_size)\n",
    "\n",
    "# Loss Function:\n",
    "criterion = nn.MSELoss()\n",
    "optimizer = optim.SGD(model.parameters(), lr=learning_rate)"
   ]
  },
  {
   "cell_type": "code",
   "execution_count": 5,
   "metadata": {},
   "outputs": [
    {
     "name": "stdout",
     "output_type": "stream",
     "text": [
      "Epoch: 1000/10000; \tLoss: 0.1792067587375641\n",
      "Epoch: 2000/10000; \tLoss: 0.17507243156433105\n",
      "Epoch: 3000/10000; \tLoss: 0.1725989133119583\n",
      "Epoch: 4000/10000; \tLoss: 0.17111912369728088\n",
      "Epoch: 5000/10000; \tLoss: 0.1702338010072708\n",
      "Epoch: 6000/10000; \tLoss: 0.1697041094303131\n",
      "Epoch: 7000/10000; \tLoss: 0.16938723623752594\n",
      "Epoch: 8000/10000; \tLoss: 0.16919760406017303\n",
      "Epoch: 9000/10000; \tLoss: 0.16908417642116547\n",
      "Epoch: 10000/10000; \tLoss: 0.16901633143424988\n"
     ]
    }
   ],
   "source": [
    "# Training the Model\n",
    "\n",
    "for epoch in range(num_epochs):\n",
    "    inputs = torch.from_numpy(x_train)\n",
    "    targets = torch.from_numpy(y_train)\n",
    "    \n",
    "    outputs = model(inputs)\n",
    "    loss = criterion(outputs, targets)\n",
    "    \n",
    "    optimizer.zero_grad()\n",
    "    loss.backward()\n",
    "    optimizer.step()\n",
    "    \n",
    "    if (epoch + 1) % 1000 == 0:\n",
    "        print(\"Epoch: {}/{}; \\tLoss: {}\".format(epoch + 1, num_epochs, loss.item()))"
   ]
  },
  {
   "cell_type": "code",
   "execution_count": 6,
   "metadata": {},
   "outputs": [
    {
     "data": {
      "image/png": "[encoded data removed]",
      "text/plain": [
       "<Figure size 432x288 with 1 Axes>"
      ]
     },
     "metadata": {
      "needs_background": "light"
     },
     "output_type": "display_data"
    }
   ],
   "source": [
    "# Plotting the outputs\n",
    "\n",
    "predicted = model(torch.from_numpy(x_train)).detach().numpy()\n",
    "\n",
    "plt.scatter(x_train, y_train, label='original data')\n",
    "plt.scatter(x_train, predicted, label='predicted data')\n",
    "plt.legend()\n",
    "plt.show()"
   ]
  },
  {
   "cell_type": "code",
   "execution_count": 7,
   "metadata": {},
   "outputs": [],
   "source": [
    "# Logistic Regression Model\n",
    "\n",
    "import torchvision\n",
    "import torchvision.transforms as transforms"
   ]
  },
  {
   "cell_type": "code",
   "execution_count": 8,
   "metadata": {},
   "outputs": [],
   "source": [
    "# Defining Hyperparameters\n",
    "\n",
    "input_size = 784\n",
    "num_classes = 10\n",
    "num_epochs = 20\n",
    "batch_size = 100\n",
    "learning_rate = 0.001"
   ]
  },
  {
   "cell_type": "code",
   "execution_count": 9,
   "metadata": {},
   "outputs": [],
   "source": [
    "# loding the Dataset\n",
    "\n",
    "train_dataset = torchvision.datasets.MNIST(root=\"./data\", train=True, transform=transforms.ToTensor(), download=True)\n",
    "test_dataset = torchvision.datasets.MNIST(root=\"./data\", train = False, transform=transforms.ToTensor(), download=True)"
   ]
  },
  {
   "cell_type": "code",
   "execution_count": 10,
   "metadata": {},
   "outputs": [
    {
     "name": "stderr",
     "output_type": "stream",
     "text": [
      "C:\\ProgramData\\Anaconda3\\lib\\site-packages\\torchvision\\datasets\\mnist.py:55: UserWarning: train_data has been renamed data\n",
      "  warnings.warn(\"train_data has been renamed data\")\n"
     ]
    },
    {
     "data": {
      "image/png": "[encoded data removed]",
      "text/plain": [
       "<Figure size 432x288 with 1 Axes>"
      ]
     },
     "metadata": {
      "needs_background": "light"
     },
     "output_type": "display_data"
    }
   ],
   "source": [
    "plt.imshow(train_dataset.train_data[0])\n",
    "plt.show()"
   ]
  },
  {
   "cell_type": "code",
   "execution_count": 11,
   "metadata": {},
   "outputs": [],
   "source": [
    "# Create DataLoader objects\n",
    "\n",
    "trainloader = torch.utils.data.DataLoader(dataset=train_dataset, batch_size=batch_size, shuffle=True)\n",
    "testloader = torch.utils.data.DataLoader(dataset=train_dataset, batch_size=batch_size, shuffle=True)"
   ]
  },
  {
   "cell_type": "code",
   "execution_count": 12,
   "metadata": {},
   "outputs": [],
   "source": [
    "model = nn.Linear(input_size, num_classes)\n",
    "\n",
    "criterion = nn.CrossEntropyLoss()\n",
    "optimizer = optim.SGD(model.parameters(), lr=learning_rate)"
   ]
  },
  {
   "cell_type": "code",
   "execution_count": 13,
   "metadata": {},
   "outputs": [
    {
     "name": "stdout",
     "output_type": "stream",
     "text": [
      "Epoch: 1/20, \tIteration: 200/600, \tLoss: 2.131042718887329\n",
      "Epoch: 1/20, \tIteration: 400/600, \tLoss: 1.9402586221694946\n",
      "Epoch: 1/20, \tIteration: 600/600, \tLoss: 1.8710306882858276\n",
      "Epoch: 2/20, \tIteration: 200/600, \tLoss: 1.6587833166122437\n",
      "Epoch: 2/20, \tIteration: 400/600, \tLoss: 1.4541630744934082\n",
      "Epoch: 2/20, \tIteration: 600/600, \tLoss: 1.3923341035842896\n",
      "Epoch: 3/20, \tIteration: 200/600, \tLoss: 1.4734867811203003\n",
      "Epoch: 3/20, \tIteration: 400/600, \tLoss: 1.3439363241195679\n",
      "Epoch: 3/20, \tIteration: 600/600, \tLoss: 1.3153544664382935\n",
      "Epoch: 4/20, \tIteration: 200/600, \tLoss: 1.2258751392364502\n",
      "Epoch: 4/20, \tIteration: 400/600, \tLoss: 1.1873568296432495\n",
      "Epoch: 4/20, \tIteration: 600/600, \tLoss: 1.1719331741333008\n",
      "Epoch: 5/20, \tIteration: 200/600, \tLoss: 1.0952476263046265\n",
      "Epoch: 5/20, \tIteration: 400/600, \tLoss: 0.977151095867157\n",
      "Epoch: 5/20, \tIteration: 600/600, \tLoss: 1.0602017641067505\n",
      "Epoch: 6/20, \tIteration: 200/600, \tLoss: 0.9646911025047302\n",
      "Epoch: 6/20, \tIteration: 400/600, \tLoss: 0.960905909538269\n",
      "Epoch: 6/20, \tIteration: 600/600, \tLoss: 1.0017423629760742\n",
      "Epoch: 7/20, \tIteration: 200/600, \tLoss: 0.9145950078964233\n",
      "Epoch: 7/20, \tIteration: 400/600, \tLoss: 0.9135411977767944\n",
      "Epoch: 7/20, \tIteration: 600/600, \tLoss: 0.950369119644165\n",
      "Epoch: 8/20, \tIteration: 200/600, \tLoss: 0.9394564628601074\n",
      "Epoch: 8/20, \tIteration: 400/600, \tLoss: 0.8255457878112793\n",
      "Epoch: 8/20, \tIteration: 600/600, \tLoss: 0.7454835772514343\n",
      "Epoch: 9/20, \tIteration: 200/600, \tLoss: 0.8115782737731934\n",
      "Epoch: 9/20, \tIteration: 400/600, \tLoss: 0.9530129432678223\n",
      "Epoch: 9/20, \tIteration: 600/600, \tLoss: 0.8192054629325867\n",
      "Epoch: 10/20, \tIteration: 200/600, \tLoss: 0.7766680717468262\n",
      "Epoch: 10/20, \tIteration: 400/600, \tLoss: 0.7944175004959106\n",
      "Epoch: 10/20, \tIteration: 600/600, \tLoss: 0.7578038573265076\n",
      "Epoch: 11/20, \tIteration: 200/600, \tLoss: 0.7102776169776917\n",
      "Epoch: 11/20, \tIteration: 400/600, \tLoss: 0.7153295874595642\n",
      "Epoch: 11/20, \tIteration: 600/600, \tLoss: 0.6784747242927551\n",
      "Epoch: 12/20, \tIteration: 200/600, \tLoss: 0.7041323781013489\n",
      "Epoch: 12/20, \tIteration: 400/600, \tLoss: 0.6571334600448608\n",
      "Epoch: 12/20, \tIteration: 600/600, \tLoss: 0.6593721508979797\n",
      "Epoch: 13/20, \tIteration: 200/600, \tLoss: 0.6096798181533813\n",
      "Epoch: 13/20, \tIteration: 400/600, \tLoss: 0.542569100856781\n",
      "Epoch: 13/20, \tIteration: 600/600, \tLoss: 0.6023448705673218\n",
      "Epoch: 14/20, \tIteration: 200/600, \tLoss: 0.7478874325752258\n",
      "Epoch: 14/20, \tIteration: 400/600, \tLoss: 0.6206379532814026\n",
      "Epoch: 14/20, \tIteration: 600/600, \tLoss: 0.6945043802261353\n",
      "Epoch: 15/20, \tIteration: 200/600, \tLoss: 0.5663085579872131\n",
      "Epoch: 15/20, \tIteration: 400/600, \tLoss: 0.5818013548851013\n",
      "Epoch: 15/20, \tIteration: 600/600, \tLoss: 0.5664539337158203\n",
      "Epoch: 16/20, \tIteration: 200/600, \tLoss: 0.725045382976532\n",
      "Epoch: 16/20, \tIteration: 400/600, \tLoss: 0.5508055686950684\n",
      "Epoch: 16/20, \tIteration: 600/600, \tLoss: 0.5996248126029968\n",
      "Epoch: 17/20, \tIteration: 200/600, \tLoss: 0.46140700578689575\n",
      "Epoch: 17/20, \tIteration: 400/600, \tLoss: 0.7448104023933411\n",
      "Epoch: 17/20, \tIteration: 600/600, \tLoss: 0.6831932663917542\n",
      "Epoch: 18/20, \tIteration: 200/600, \tLoss: 0.5293373465538025\n",
      "Epoch: 18/20, \tIteration: 400/600, \tLoss: 0.6430267095565796\n",
      "Epoch: 18/20, \tIteration: 600/600, \tLoss: 0.5874290466308594\n",
      "Epoch: 19/20, \tIteration: 200/600, \tLoss: 0.5656144618988037\n",
      "Epoch: 19/20, \tIteration: 400/600, \tLoss: 0.7202309966087341\n",
      "Epoch: 19/20, \tIteration: 600/600, \tLoss: 0.6088091135025024\n",
      "Epoch: 20/20, \tIteration: 200/600, \tLoss: 0.502942681312561\n",
      "Epoch: 20/20, \tIteration: 400/600, \tLoss: 0.7303226590156555\n",
      "Epoch: 20/20, \tIteration: 600/600, \tLoss: 0.692151665687561\n"
     ]
    }
   ],
   "source": [
    "# Training the Model\n",
    "\n",
    "total_step = 0\n",
    "for epoch in range(num_epochs):\n",
    "    for i, (images, labels) in enumerate(trainloader):\n",
    "        images = images.reshape(-1, 28 * 28)\n",
    "        outputs = model(images)\n",
    "        loss = criterion(outputs, labels)\n",
    "        \n",
    "        optimizer.zero_grad()\n",
    "        loss.backward()\n",
    "        \n",
    "        optimizer.step()\n",
    "        \n",
    "        if (i + 1) % 200 == 0:\n",
    "            print(\"Epoch: {}/{}, \\tIteration: {}/{}, \\tLoss: {}\".format(epoch + 1, num_epochs, i + 1, len(trainloader), loss.item()))"
   ]
  },
  {
   "cell_type": "code",
   "execution_count": 14,
   "metadata": {},
   "outputs": [
    {
     "name": "stdout",
     "output_type": "stream",
     "text": [
      "Accuracy of the model: 0.8649833333333333\n"
     ]
    }
   ],
   "source": [
    "# Testing the model\n",
    "\n",
    "with torch.no_grad():\n",
    "    correct = 0\n",
    "    total = 0\n",
    "    for images, labels in testloader:\n",
    "        images = images.reshape(-1, 28 * 28)\n",
    "        outputs = model(images)\n",
    "        _, predicted = torch.max(outputs.data, 1)\n",
    "        correct += (predicted == labels).sum()\n",
    "        total += labels.size(0)\n",
    "    print(\"Accuracy of the model: {}\".format(float(correct) / float(total)))"
   ]
  },
  {
   "cell_type": "code",
   "execution_count": null,
   "metadata": {},
   "outputs": [],
   "source": []
  }
 ],
 "metadata": {
  "kernelspec": {
   "display_name": "Python 3",
   "language": "python",
   "name": "python3"
  },
  "language_info": {
   "codemirror_mode": {
    "name": "ipython",
    "version": 3
   },
   "file_extension": ".py",
   "mimetype": "text/x-python",
   "name": "python",
   "nbconvert_exporter": "python",
   "pygments_lexer": "ipython3",
   "version": "3.7.6"
  },
  "varInspector": {
   "cols": {
    "lenName": 16,
    "lenType": 16,
    "lenVar": 40
   },
   "kernels_config": {
    "python": {
     "delete_cmd_postfix": "",
     "delete_cmd_prefix": "del ",
     "library": "var_list.py",
     "varRefreshCmd": "print(var_dic_list())"
    },
    "r": {
     "delete_cmd_postfix": ") ",
     "delete_cmd_prefix": "rm(",
     "library": "var_list.r",
     "varRefreshCmd": "cat(var_dic_list()) "
    }
   },
   "types_to_exclude": [
    "module",
    "function",
    "builtin_function_or_method",
    "instance",
    "_Feature"
   ],
   "window_display": false
  }
 },
 "nbformat": 4,
 "nbformat_minor": 4
}
