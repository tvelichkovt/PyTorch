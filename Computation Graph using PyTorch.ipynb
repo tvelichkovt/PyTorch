{
 "cells": [
  {
   "cell_type": "code",
   "execution_count": 1,
   "metadata": {},
   "outputs": [],
   "source": [
    "#Importing the packages\n",
    "\n",
    "import torch\n",
    "import torch.optim as optim\n",
    "import torch.nn as nn\n",
    "import numpy as np\n",
    "import matplotlib.pyplot as plt"
   ]
  },
  {
   "cell_type": "code",
   "execution_count": 2,
   "metadata": {},
   "outputs": [],
   "source": [
    "#Defining the Hyperparameters\n",
    "\n",
    "input_size = 1\n",
    "output_size = 1\n",
    "num_epochs = 10000\n",
    "learning_rate = 0.001"
   ]
  },
  {
   "cell_type": "code",
   "execution_count": 3,
   "metadata": {},
   "outputs": [],
   "source": [
    "# Defining a Toy Dataset\n",
    "\n",
    "x_train = np.array([[3.3], [4.4], [5.5], [6.71], [6.93], [4.168],[9.779], [6.182], [7.59], [2.167], [7.042], [10.791], [5.313], [7.997], [3.1]], dtype=np.float32)\n",
    "\n",
    "y_train = np.array([[1.7], [2.76], [2.09], [3.19], [1.694], [1.573], [3.366], [2.596], [2.53], [1.221], [2.827], [3.465], [1.65], [2.904], [1.3]], dtype=np.float32)"
   ]
  },
  {
   "cell_type": "code",
   "execution_count": 4,
   "metadata": {},
   "outputs": [],
   "source": [
    "# Linear Regression Model\n",
    "\n",
    "model = nn.Linear(input_size, output_size)\n",
    "\n",
    "# Loss Function:\n",
    "criterion = nn.MSELoss()\n",
    "optimizer = optim.SGD(model.parameters(), lr=learning_rate)"
   ]
  },
  {
   "cell_type": "code",
   "execution_count": 5,
   "metadata": {},
   "outputs": [
    {
     "name": "stdout",
     "output_type": "stream",
     "text": [
      "Epoch: 1000/10000; \tLoss: 0.35465386509895325\n",
      "Epoch: 2000/10000; \tLoss: 0.2800377905368805\n",
      "Epoch: 3000/10000; \tLoss: 0.23539696633815765\n",
      "Epoch: 4000/10000; \tLoss: 0.20868952572345734\n",
      "Epoch: 5000/10000; \tLoss: 0.19271118938922882\n",
      "Epoch: 6000/10000; \tLoss: 0.1831517517566681\n",
      "Epoch: 7000/10000; \tLoss: 0.1774325966835022\n",
      "Epoch: 8000/10000; \tLoss: 0.1740109771490097\n",
      "Epoch: 9000/10000; \tLoss: 0.1719639003276825\n",
      "Epoch: 10000/10000; \tLoss: 0.17073921859264374\n"
     ]
    }
   ],
   "source": [
    "# Training the Model\n",
    "\n",
    "for epoch in range(num_epochs):\n",
    "    inputs = torch.from_numpy(x_train)\n",
    "    targets = torch.from_numpy(y_train)\n",
    "    \n",
    "    outputs = model(inputs)\n",
    "    loss = criterion(outputs, targets)\n",
    "    \n",
    "    optimizer.zero_grad()\n",
    "    loss.backward()\n",
    "    optimizer.step()\n",
    "    \n",
    "    if (epoch + 1) % 1000 == 0:\n",
    "        print(\"Epoch: {}/{}; \\tLoss: {}\".format(epoch + 1, num_epochs, loss.item()))"
   ]
  },
  {
   "cell_type": "code",
   "execution_count": 6,
   "metadata": {},
   "outputs": [
    {
     "data": {
      "image/png": "[encoded data removed]",
      "text/plain": [
       "<Figure size 432x288 with 1 Axes>"
      ]
     },
     "metadata": {
      "needs_background": "light"
     },
     "output_type": "display_data"
    }
   ],
   "source": [
    "# Plotting the outputs\n",
    "\n",
    "predicted = model(torch.from_numpy(x_train)).detach().numpy()\n",
    "\n",
    "plt.scatter(x_train, y_train, label='original data', color='r')\n",
    "plt.scatter(x_train, predicted, label='predicted data', color='b')\n",
    "plt.legend()\n",
    "plt.show()"
   ]
  },
  {
   "cell_type": "code",
   "execution_count": 7,
   "metadata": {},
   "outputs": [],
   "source": [
    "# Logistic Regression Model\n",
    "\n",
    "import torchvision\n",
    "import torchvision.transforms as transforms"
   ]
  },
  {
   "cell_type": "code",
   "execution_count": 8,
   "metadata": {},
   "outputs": [],
   "source": [
    "# Defining Hyperparameters\n",
    "\n",
    "input_size = 784\n",
    "num_classes = 10\n",
    "num_epochs = 20\n",
    "batch_size = 100\n",
    "learning_rate = 0.001"
   ]
  },
  {
   "cell_type": "code",
   "execution_count": 9,
   "metadata": {},
   "outputs": [],
   "source": [
    "# loding the Dataset\n",
    "\n",
    "train_dataset = torchvision.datasets.MNIST(root=\"./data\", train=True, transform=transforms.ToTensor(), download=True)\n",
    "test_dataset = torchvision.datasets.MNIST(root=\"./data\", train = False, transform=transforms.ToTensor(), download=True)"
   ]
  },
  {
   "cell_type": "code",
   "execution_count": 10,
   "metadata": {},
   "outputs": [
    {
     "name": "stderr",
     "output_type": "stream",
     "text": [
      "C:\\ProgramData\\Anaconda3\\lib\\site-packages\\torchvision\\datasets\\mnist.py:55: UserWarning: train_data has been renamed data\n",
      "  warnings.warn(\"train_data has been renamed data\")\n"
     ]
    },
    {
     "data": {
      "image/png": "[encoded data removed]",
      "text/plain": [
       "<Figure size 432x288 with 1 Axes>"
      ]
     },
     "metadata": {
      "needs_background": "light"
     },
     "output_type": "display_data"
    }
   ],
   "source": [
    "plt.imshow(train_dataset.train_data[0])\n",
    "plt.show()"
   ]
  },
  {
   "cell_type": "code",
   "execution_count": 11,
   "metadata": {},
   "outputs": [],
   "source": [
    "# Create DataLoader objects\n",
    "\n",
    "trainloader = torch.utils.data.DataLoader(dataset=train_dataset, batch_size=batch_size, shuffle=True)\n",
    "testloader = torch.utils.data.DataLoader(dataset=train_dataset, batch_size=batch_size, shuffle=True)"
   ]
  },
  {
   "cell_type": "code",
   "execution_count": 12,
   "metadata": {},
   "outputs": [],
   "source": [
    "model = nn.Linear(input_size, num_classes)\n",
    "\n",
    "criterion = nn.CrossEntropyLoss()\n",
    "optimizer = optim.SGD(model.parameters(), lr=learning_rate)"
   ]
  },
  {
   "cell_type": "code",
   "execution_count": 13,
   "metadata": {},
   "outputs": [
    {
     "name": "stdout",
     "output_type": "stream",
     "text": [
      "Epoch: 1/20, \tIteration: 200/600, \tLoss: 2.11348295211792\n",
      "Epoch: 1/20, \tIteration: 400/600, \tLoss: 1.9768154621124268\n",
      "Epoch: 1/20, \tIteration: 600/600, \tLoss: 1.8140112161636353\n",
      "Epoch: 2/20, \tIteration: 200/600, \tLoss: 1.6307744979858398\n",
      "Epoch: 2/20, \tIteration: 400/600, \tLoss: 1.5595742464065552\n",
      "Epoch: 2/20, \tIteration: 600/600, \tLoss: 1.416924238204956\n",
      "Epoch: 3/20, \tIteration: 200/600, \tLoss: 1.4517042636871338\n",
      "Epoch: 3/20, \tIteration: 400/600, \tLoss: 1.373637080192566\n",
      "Epoch: 3/20, \tIteration: 600/600, \tLoss: 1.3432384729385376\n",
      "Epoch: 4/20, \tIteration: 200/600, \tLoss: 1.187993049621582\n",
      "Epoch: 4/20, \tIteration: 400/600, \tLoss: 1.15120267868042\n",
      "Epoch: 4/20, \tIteration: 600/600, \tLoss: 1.287697196006775\n",
      "Epoch: 5/20, \tIteration: 200/600, \tLoss: 1.023123860359192\n",
      "Epoch: 5/20, \tIteration: 400/600, \tLoss: 1.0275392532348633\n",
      "Epoch: 5/20, \tIteration: 600/600, \tLoss: 0.9594303369522095\n",
      "Epoch: 6/20, \tIteration: 200/600, \tLoss: 1.0727664232254028\n",
      "Epoch: 6/20, \tIteration: 400/600, \tLoss: 1.0496281385421753\n",
      "Epoch: 6/20, \tIteration: 600/600, \tLoss: 0.9817613959312439\n",
      "Epoch: 7/20, \tIteration: 200/600, \tLoss: 0.8590309619903564\n",
      "Epoch: 7/20, \tIteration: 400/600, \tLoss: 0.9260696172714233\n",
      "Epoch: 7/20, \tIteration: 600/600, \tLoss: 0.8033376932144165\n",
      "Epoch: 8/20, \tIteration: 200/600, \tLoss: 0.809929370880127\n",
      "Epoch: 8/20, \tIteration: 400/600, \tLoss: 0.9332719445228577\n",
      "Epoch: 8/20, \tIteration: 600/600, \tLoss: 0.8235397338867188\n",
      "Epoch: 9/20, \tIteration: 200/600, \tLoss: 0.7932674288749695\n",
      "Epoch: 9/20, \tIteration: 400/600, \tLoss: 0.7713871002197266\n",
      "Epoch: 9/20, \tIteration: 600/600, \tLoss: 0.6913479566574097\n",
      "Epoch: 10/20, \tIteration: 200/600, \tLoss: 0.683384120464325\n",
      "Epoch: 10/20, \tIteration: 400/600, \tLoss: 0.7840595841407776\n",
      "Epoch: 10/20, \tIteration: 600/600, \tLoss: 0.798953115940094\n",
      "Epoch: 11/20, \tIteration: 200/600, \tLoss: 0.7547604441642761\n",
      "Epoch: 11/20, \tIteration: 400/600, \tLoss: 0.7991681694984436\n",
      "Epoch: 11/20, \tIteration: 600/600, \tLoss: 0.7662707567214966\n",
      "Epoch: 12/20, \tIteration: 200/600, \tLoss: 0.6646339297294617\n",
      "Epoch: 12/20, \tIteration: 400/600, \tLoss: 0.8230312466621399\n",
      "Epoch: 12/20, \tIteration: 600/600, \tLoss: 0.5955288410186768\n",
      "Epoch: 13/20, \tIteration: 200/600, \tLoss: 0.6695789098739624\n",
      "Epoch: 13/20, \tIteration: 400/600, \tLoss: 0.6369901895523071\n",
      "Epoch: 13/20, \tIteration: 600/600, \tLoss: 0.7367023229598999\n",
      "Epoch: 14/20, \tIteration: 200/600, \tLoss: 0.788683295249939\n",
      "Epoch: 14/20, \tIteration: 400/600, \tLoss: 0.6644474864006042\n",
      "Epoch: 14/20, \tIteration: 600/600, \tLoss: 0.5794206261634827\n",
      "Epoch: 15/20, \tIteration: 200/600, \tLoss: 0.5658922791481018\n",
      "Epoch: 15/20, \tIteration: 400/600, \tLoss: 0.6202057003974915\n",
      "Epoch: 15/20, \tIteration: 600/600, \tLoss: 0.6490528583526611\n",
      "Epoch: 16/20, \tIteration: 200/600, \tLoss: 0.589232861995697\n",
      "Epoch: 16/20, \tIteration: 400/600, \tLoss: 0.653016984462738\n",
      "Epoch: 16/20, \tIteration: 600/600, \tLoss: 0.5731772780418396\n",
      "Epoch: 17/20, \tIteration: 200/600, \tLoss: 0.6609398126602173\n",
      "Epoch: 17/20, \tIteration: 400/600, \tLoss: 0.6446942090988159\n",
      "Epoch: 17/20, \tIteration: 600/600, \tLoss: 0.5710018277168274\n",
      "Epoch: 18/20, \tIteration: 200/600, \tLoss: 0.6565715074539185\n",
      "Epoch: 18/20, \tIteration: 400/600, \tLoss: 0.5492011904716492\n",
      "Epoch: 18/20, \tIteration: 600/600, \tLoss: 0.6849066019058228\n",
      "Epoch: 19/20, \tIteration: 200/600, \tLoss: 0.5802387595176697\n",
      "Epoch: 19/20, \tIteration: 400/600, \tLoss: 0.5950618386268616\n",
      "Epoch: 19/20, \tIteration: 600/600, \tLoss: 0.5446805357933044\n",
      "Epoch: 20/20, \tIteration: 200/600, \tLoss: 0.6342569589614868\n",
      "Epoch: 20/20, \tIteration: 400/600, \tLoss: 0.5714309215545654\n",
      "Epoch: 20/20, \tIteration: 600/600, \tLoss: 0.6127232313156128\n"
     ]
    }
   ],
   "source": [
    "# Training the Model\n",
    "\n",
    "total_step = 0\n",
    "for epoch in range(num_epochs):\n",
    "    for i, (images, labels) in enumerate(trainloader):\n",
    "        images = images.reshape(-1, 28 * 28)\n",
    "        outputs = model(images)\n",
    "        loss = criterion(outputs, labels)\n",
    "        \n",
    "        optimizer.zero_grad()\n",
    "        loss.backward()\n",
    "        \n",
    "        optimizer.step()\n",
    "        \n",
    "        if (i + 1) % 200 == 0:\n",
    "            print(\"Epoch: {}/{}, \\tIteration: {}/{}, \\tLoss: {}\".format(epoch + 1, num_epochs, i + 1, len(trainloader), loss.item()))"
   ]
  },
  {
   "cell_type": "code",
   "execution_count": 14,
   "metadata": {},
   "outputs": [
    {
     "name": "stdout",
     "output_type": "stream",
     "text": [
      "Accuracy of the model: 0.8650666666666667\n"
     ]
    }
   ],
   "source": [
    "# Testing the model\n",
    "\n",
    "with torch.no_grad():\n",
    "    correct = 0\n",
    "    total = 0\n",
    "    for images, labels in testloader:\n",
    "        images = images.reshape(-1, 28 * 28)\n",
    "        outputs = model(images)\n",
    "        _, predicted = torch.max(outputs.data, 1)\n",
    "        correct += (predicted == labels).sum()\n",
    "        total += labels.size(0)\n",
    "    print(\"Accuracy of the model: {}\".format(float(correct) / float(total)))"
   ]
  }
 ],
 "metadata": {
  "kernelspec": {
   "display_name": "Python 3 (ipykernel)",
   "language": "python",
   "name": "python3"
  },
  "language_info": {
   "codemirror_mode": {
    "name": "ipython",
    "version": 3
   },
   "file_extension": ".py",
   "mimetype": "text/x-python",
   "name": "python",
   "nbconvert_exporter": "python",
   "pygments_lexer": "ipython3",
   "version": "3.8.3"
  },
  "varInspector": {
   "cols": {
    "lenName": 16,
    "lenType": 16,
    "lenVar": 40
   },
   "kernels_config": {
    "python": {
     "delete_cmd_postfix": "",
     "delete_cmd_prefix": "del ",
     "library": "var_list.py",
     "varRefreshCmd": "print(var_dic_list())"
    },
    "r": {
     "delete_cmd_postfix": ") ",
     "delete_cmd_prefix": "rm(",
     "library": "var_list.r",
     "varRefreshCmd": "cat(var_dic_list()) "
    }
   },
   "types_to_exclude": [
    "module",
    "function",
    "builtin_function_or_method",
    "instance",
    "_Feature"
   ],
   "window_display": false
  }
 },
 "nbformat": 4,
 "nbformat_minor": 4
}
